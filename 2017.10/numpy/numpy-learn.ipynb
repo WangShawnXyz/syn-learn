{
 "cells": [
  {
   "cell_type": "code",
   "execution_count": 2,
   "metadata": {
    "collapsed": true
   },
   "outputs": [],
   "source": [
    "import numpy as np\n",
    "a = np.array([3, 4])\n",
    "\n",
    "np.linalg.norm(a)\n",
    "\n",
    "b = np.array([\n",
    "    [1, 2, 3],\n",
    "    [4, 5, 6],\n",
    "    [7, 8, 9]\n",
    "             ])"
   ]
  },
  {
   "cell_type": "code",
   "execution_count": 3,
   "metadata": {},
   "outputs": [
    {
     "data": {
      "text/plain": [
       "5.0"
      ]
     },
     "execution_count": 3,
     "metadata": {},
     "output_type": "execute_result"
    }
   ],
   "source": [
    "np.linalg.norm(a)\n",
    "#求范式，  默认欧氏距离即2范式"
   ]
  },
  {
   "cell_type": "code",
   "execution_count": 4,
   "metadata": {},
   "outputs": [
    {
     "data": {
      "text/plain": [
       "array([ 4, 10, 16])"
      ]
     },
     "execution_count": 4,
     "metadata": {},
     "output_type": "execute_result"
    }
   ],
   "source": [
    "c = np.array([1, 0, 1])\n",
    "\n",
    "#矩阵与向量相(点)乘\n",
    "np.dot(b, c)"
   ]
  },
  {
   "cell_type": "code",
   "execution_count": 5,
   "metadata": {},
   "outputs": [
    {
     "data": {
      "text/plain": [
       "array([ 8, 10, 12])"
      ]
     },
     "execution_count": 5,
     "metadata": {},
     "output_type": "execute_result"
    }
   ],
   "source": [
    "np.dot(b.T, c)"
   ]
  },
  {
   "cell_type": "code",
   "execution_count": 7,
   "metadata": {},
   "outputs": [
    {
     "data": {
      "text/plain": [
       "array([ 4, 10, 16])"
      ]
     },
     "execution_count": 7,
     "metadata": {},
     "output_type": "execute_result"
    }
   ],
   "source": [
    "np.dot(c, b.T)"
   ]
  },
  {
   "cell_type": "code",
   "execution_count": 13,
   "metadata": {},
   "outputs": [
    {
     "data": {
      "text/plain": [
       "15"
      ]
     },
     "execution_count": 13,
     "metadata": {},
     "output_type": "execute_result"
    }
   ],
   "source": [
    "#求矩阵的迹\n",
    "np.trace(b)"
   ]
  },
  {
   "cell_type": "code",
   "execution_count": 17,
   "metadata": {},
   "outputs": [
    {
     "data": {
      "text/plain": [
       "-9.5161973539299405e-16"
      ]
     },
     "execution_count": 17,
     "metadata": {},
     "output_type": "execute_result"
    }
   ],
   "source": [
    "#求行列式\n",
    "np.linalg.det(b)"
   ]
  },
  {
   "cell_type": "code",
   "execution_count": 19,
   "metadata": {},
   "outputs": [
    {
     "data": {
      "text/plain": [
       "2"
      ]
     },
     "execution_count": 19,
     "metadata": {},
     "output_type": "execute_result"
    }
   ],
   "source": [
    "#求矩阵的秩\n",
    "np.linalg.matrix_rank(b)"
   ]
  },
  {
   "cell_type": "code",
   "execution_count": 28,
   "metadata": {},
   "outputs": [
    {
     "name": "stdout",
     "output_type": "stream",
     "text": [
      "[ 3.  1.]\n",
      "[[ 0.70710678 -0.70710678]\n",
      " [ 0.70710678  0.70710678]]\n",
      "[ 1.  3.]\n",
      "[[-0.70710678  0.70710678]\n",
      " [ 0.70710678  0.70710678]]\n"
     ]
    }
   ],
   "source": [
    "'''\n",
    "对正定矩阵求本征值和本征向量\n",
    "本征值为u，array([ 3.,  1.])\n",
    "本征向量构成的二维array为v，\n",
    "array([[ 0.70710678, -0.70710678],\n",
    "       [ 0.70710678,  0.70710678]])\n",
    "是沿着45°方向\n",
    "eig()是一般情况的本征值分解，对于更常见的对称实数矩阵，\n",
    "eigh()更快且更稳定，不过输出的值的顺序和eig()是相反的\n",
    "'''\n",
    "d = np.array([\n",
    "    [2, 1],\n",
    "    [1, 2]\n",
    "])\n",
    "\n",
    "u, v = np.linalg.eig(d)\n",
    "print(u)\n",
    "print(v)\n",
    "u, v = np.linalg.eigh(d)\n",
    "print(u)\n",
    "print(v)\n",
    "\n"
   ]
  },
  {
   "cell_type": "code",
   "execution_count": 29,
   "metadata": {},
   "outputs": [],
   "source": [
    "#################\n",
    "#   numpy随机模块"
   ]
  },
  {
   "cell_type": "code",
   "execution_count": 30,
   "metadata": {
    "collapsed": true
   },
   "outputs": [],
   "source": [
    "import numpy as np\n",
    "import numpy.random as random"
   ]
  },
  {
   "cell_type": "code",
   "execution_count": 31,
   "metadata": {
    "collapsed": true
   },
   "outputs": [],
   "source": [
    "#设置随机数种子\n",
    "random.seed(42)"
   ]
  },
  {
   "cell_type": "code",
   "execution_count": 32,
   "metadata": {},
   "outputs": [
    {
     "data": {
      "text/plain": [
       "array([[ 0.37454012,  0.95071431,  0.73199394]])"
      ]
     },
     "execution_count": 32,
     "metadata": {},
     "output_type": "execute_result"
    }
   ],
   "source": [
    "#产生一个1×3的[0,1)之间的浮点数\n",
    "random.rand(1, 3)"
   ]
  },
  {
   "cell_type": "code",
   "execution_count": 34,
   "metadata": {},
   "outputs": [
    {
     "name": "stdout",
     "output_type": "stream",
     "text": [
      "[[ 0.83244264  0.21233911  0.18182497]\n",
      " [ 0.18340451  0.30424224  0.52475643]\n",
      " [ 0.43194502  0.29122914  0.61185289]]\n",
      "[[ 0.13949386  0.29214465  0.36636184]\n",
      " [ 0.45606998  0.78517596  0.19967378]\n",
      " [ 0.51423444  0.59241457  0.04645041]]\n",
      "[[ 0.60754485  0.17052412  0.06505159]\n",
      " [ 0.94888554  0.96563203  0.80839735]\n",
      " [ 0.30461377  0.09767211  0.68423303]]\n",
      "[[ 0.44015249  0.12203823  0.49517691]\n",
      " [ 0.03438852  0.9093204   0.25877998]\n",
      " [ 0.66252228  0.31171108  0.52006802]]\n"
     ]
    }
   ],
   "source": [
    "#产生3×3的[0,1)之间的随机浮点数\n",
    "print(random.random((3,3)))\n",
    "print(random.sample((3,3)))\n",
    "print(random.random_sample((3,3)))\n",
    "print(random.ranf((3,3)))"
   ]
  },
  {
   "cell_type": "code",
   "execution_count": 36,
   "metadata": {},
   "outputs": [
    {
     "name": "stdout",
     "output_type": "stream",
     "text": [
      "[ 1.37275322  5.93443468  4.86122385  1.99357841  1.02761059  5.07730714\n",
      "  4.53428672  4.64503584  4.85635173  1.37022326]\n"
     ]
    },
    {
     "data": {
      "text/plain": [
       "array([ 2.79232864,  1.5793453 ,  5.31551713,  4.11649063,  2.65449012,\n",
       "        1.31779175,  2.55491161,  2.62591661,  4.64803089,  4.18778736])"
      ]
     },
     "execution_count": 36,
     "metadata": {},
     "output_type": "execute_result"
    }
   ],
   "source": [
    "#产生10个[1,6)之间的浮点随机数\n",
    "print(5*random.random(10)+1)\n",
    "random.uniform(1, 6, 10)"
   ]
  },
  {
   "cell_type": "code",
   "execution_count": 39,
   "metadata": {},
   "outputs": [
    {
     "data": {
      "text/plain": [
       "array([1, 2, 2, 4, 5, 3, 1, 4, 5, 4])"
      ]
     },
     "execution_count": 39,
     "metadata": {},
     "output_type": "execute_result"
    }
   ],
   "source": [
    "#产生10个[1,6)之间的随机整数\n",
    "random.randint(1, 6, 10)"
   ]
  },
  {
   "cell_type": "code",
   "execution_count": 40,
   "metadata": {},
   "outputs": [
    {
     "data": {
      "text/plain": [
       "array([[-0.21967189,  0.35711257,  1.47789404, -0.51827022, -0.8084936 ],\n",
       "       [-0.50175704,  0.91540212,  0.32875111, -0.5297602 ,  0.51326743]])"
      ]
     },
     "execution_count": 40,
     "metadata": {},
     "output_type": "execute_result"
    }
   ],
   "source": [
    "#产生2×5标准正态分布样本\n",
    "random.normal(size=(2, 5))"
   ]
  },
  {
   "cell_type": "code",
   "execution_count": 47,
   "metadata": {},
   "outputs": [
    {
     "data": {
      "text/plain": [
       "array([2, 5, 2, 3, 3])"
      ]
     },
     "execution_count": 47,
     "metadata": {},
     "output_type": "execute_result"
    }
   ],
   "source": [
    "#产生五个， n=5， p=0.5的二项分布样本\n",
    "#size可以是整数，元组\n",
    "random.binomial(n=5, p=0.5, size=5)"
   ]
  },
  {
   "cell_type": "code",
   "execution_count": 48,
   "metadata": {
    "collapsed": true
   },
   "outputs": [],
   "source": [
    "a = np.arange(10)"
   ]
  },
  {
   "cell_type": "code",
   "execution_count": 50,
   "metadata": {},
   "outputs": [
    {
     "data": {
      "text/plain": [
       "array([0, 5, 7, 4, 3, 1, 5])"
      ]
     },
     "execution_count": 50,
     "metadata": {},
     "output_type": "execute_result"
    }
   ],
   "source": [
    "#从a中有放回随机采样7个\n",
    "random.choice(a, 7)"
   ]
  },
  {
   "cell_type": "code",
   "execution_count": 51,
   "metadata": {},
   "outputs": [
    {
     "data": {
      "text/plain": [
       "array([7, 1, 6, 9, 4, 2, 3])"
      ]
     },
     "execution_count": 51,
     "metadata": {},
     "output_type": "execute_result"
    }
   ],
   "source": [
    "#从a中无放回采样7个\n",
    "random.choice(a, 7, replace=False)"
   ]
  },
  {
   "cell_type": "code",
   "execution_count": 52,
   "metadata": {
    "collapsed": true
   },
   "outputs": [],
   "source": [
    "#对a进行乱序，并返回新的array\n",
    "b = random.permutation(a)"
   ]
  },
  {
   "cell_type": "code",
   "execution_count": 53,
   "metadata": {},
   "outputs": [
    {
     "data": {
      "text/plain": [
       "array([7, 1, 4, 0, 5, 3, 8, 6, 9, 2])"
      ]
     },
     "execution_count": 53,
     "metadata": {},
     "output_type": "execute_result"
    }
   ],
   "source": [
    "b\n"
   ]
  },
  {
   "cell_type": "code",
   "execution_count": 54,
   "metadata": {},
   "outputs": [
    {
     "data": {
      "text/plain": [
       "array([0, 1, 2, 3, 4, 5, 6, 7, 8, 9])"
      ]
     },
     "execution_count": 54,
     "metadata": {},
     "output_type": "execute_result"
    }
   ],
   "source": [
    "a"
   ]
  },
  {
   "cell_type": "code",
   "execution_count": 61,
   "metadata": {
    "collapsed": true
   },
   "outputs": [],
   "source": [
    "#对a进行in-place排序,即直接改变原变量\n",
    "random.shuffle(a)"
   ]
  },
  {
   "cell_type": "code",
   "execution_count": 62,
   "metadata": {},
   "outputs": [
    {
     "data": {
      "text/plain": [
       "array([8, 2, 3, 1, 5, 6, 0, 4, 9, 7])"
      ]
     },
     "execution_count": 62,
     "metadata": {},
     "output_type": "execute_result"
    }
   ],
   "source": [
    "a"
   ]
  },
  {
   "cell_type": "code",
   "execution_count": 63,
   "metadata": {},
   "outputs": [
    {
     "data": {
      "text/plain": [
       "b'\\xa3\\x15\\x0c\\xc9\\xa5\\xa5\\x07\\xe6g'"
      ]
     },
     "execution_count": 63,
     "metadata": {},
     "output_type": "execute_result"
    }
   ],
   "source": [
    "#生成一个长度为9的随机bytes序列作为str返回\n",
    "random.bytes(9)"
   ]
  },
  {
   "cell_type": "code",
   "execution_count": null,
   "metadata": {
    "collapsed": true
   },
   "outputs": [],
   "source": []
  }
 ],
 "metadata": {
  "kernelspec": {
   "display_name": "Python 3",
   "language": "python",
   "name": "python3"
  },
  "language_info": {
   "codemirror_mode": {
    "name": "ipython",
    "version": 3
   },
   "file_extension": ".py",
   "mimetype": "text/x-python",
   "name": "python",
   "nbconvert_exporter": "python",
   "pygments_lexer": "ipython3",
   "version": "3.6.1"
  }
 },
 "nbformat": 4,
 "nbformat_minor": 2
}
